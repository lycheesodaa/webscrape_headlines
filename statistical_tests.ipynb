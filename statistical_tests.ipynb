{
 "cells": [
  {
   "cell_type": "code",
   "id": "initial_id",
   "metadata": {
    "collapsed": true
   },
   "source": [
    "import pandas as pd\n",
    "import pmdarima as pm\n",
    "from pmdarima import model_selection\n",
    "import matplotlib.pyplot as plt\n",
    "import numpy as np\n",
    "from datetime import datetime, timedelta\n",
    "from tqdm import tqdm\n",
    "\n",
    "def generate_datetime_list(start_datetime_: datetime, num_intervals: int) -> list:\n",
    "    \"\"\"\n",
    "    Generate a list of datetimes in 30-minute intervals.\n",
    "\n",
    "    Args:\n",
    "    start_datetime_ (datetime): The starting datetime.\n",
    "    num_intervals (int): The number of intervals to generate.\n",
    "\n",
    "    Returns:\n",
    "    list: A list of datetimes.\n",
    "    \"\"\"\n",
    "    interval = timedelta(minutes=30)\n",
    "    return [start_datetime_ + i * interval for i in range(num_intervals)]"
   ],
   "outputs": [],
   "execution_count": null
  },
  {
   "metadata": {},
   "cell_type": "code",
   "source": [
    "# #############################################################################\n",
    "# Load the data and split it into separate pieces\n",
    "data = pd.read_csv('external_data/demand/demand_data_all_cleaned_numerical.csv')\n",
    "data['datetime'] = pd.to_datetime(data['datetime'])\n",
    "\n",
    "# 0.8 - 0.2 split\n",
    "train, test = model_selection.train_test_split(data, train_size=0.8)\n",
    "train_y = train['actual'].values\n",
    "test_y = test['actual'].values\n",
    "val_size = len(test) # val size = test size\n",
    "\n",
    "pred_lens = [1, 12, 72]\n",
    "\n",
    "for pred_len in pred_lens:\n",
    "    # #############################################################################\n",
    "    # Fit with some validation (cv) samples\n",
    "    arima = pm.auto_arima(train_y, start_p=1, start_q=1, d=0, max_p=5, max_q=5,\n",
    "                          out_of_sample_size=val_size, suppress_warnings=True,\n",
    "                          stepwise=True, error_action='ignore')\n",
    "    \n",
    "    all_preds = []\n",
    "    all_conf_ints = []\n",
    "    dates = []\n",
    "    start_datetime = train['datetime'].iloc[-1] + timedelta(minutes=30)\n",
    "    \n",
    "    for window_num in tqdm(range(len(test) - pred_len + 1)):\n",
    "        preds, conf_int = arima.predict(n_periods=pred_len,\n",
    "                                        return_conf_int=True)\n",
    "        all_preds.extend(preds)\n",
    "        all_conf_ints.extend(conf_int)\n",
    "        dates.extend(generate_datetime_list(start_datetime, pred_len))\n",
    "        start_datetime += timedelta(minutes=30)\n",
    "        \n",
    "        arima.update(test_y[window_num])\n",
    "    \n",
    "    df = pd.DataFrame({\n",
    "        'date': dates,\n",
    "        'pred': all_preds,\n",
    "        'cis': all_conf_ints,\n",
    "    })\n",
    "    df['date'] = pd.to_datetime(df['date'])\n",
    "    df.set_index('date', inplace=True)\n",
    "    df.to_csv(f'ARIMA_{pred_len}_predictions.csv')"
   ],
   "id": "44a34d98ae861e3d",
   "outputs": [],
   "execution_count": null
  },
  {
   "metadata": {},
   "cell_type": "code",
   "source": "",
   "id": "39c7f2051aeecc5c",
   "outputs": [],
   "execution_count": null
  }
 ],
 "metadata": {
  "kernelspec": {
   "display_name": "Python 3",
   "language": "python",
   "name": "python3"
  },
  "language_info": {
   "codemirror_mode": {
    "name": "ipython",
    "version": 2
   },
   "file_extension": ".py",
   "mimetype": "text/x-python",
   "name": "python",
   "nbconvert_exporter": "python",
   "pygments_lexer": "ipython2",
   "version": "2.7.6"
  }
 },
 "nbformat": 4,
 "nbformat_minor": 5
}
