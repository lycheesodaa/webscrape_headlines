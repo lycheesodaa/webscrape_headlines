{
 "cells": [
  {
   "cell_type": "code",
   "execution_count": 1,
   "metadata": {},
   "outputs": [],
   "source": [
    "import pandas as pd\n",
    "import numpy as np\n",
    "import matplotlib.pyplot as plt\n",
    "from statsmodels.tsa.stattools import adfuller\n",
    "from statsmodels.tsa.stattools import bds\n",
    "from scipy.stats import skew, kurtosis\n",
    "\n",
    "daily_data_path = \"/home/lianlian/models/Time-LLM/dataset/carbon/target_daily/1-historical_price_daily.xlsx\"  # File with carbon credit price data\n",
    "monthly_data_path = \"/home/lianlian/models/Time-LLM/dataset/carbon/target_monthly/1-historical_price-Monthly.xlsx\"  # File with carbon credit price data"
   ]
  },
  {
   "cell_type": "code",
   "execution_count": 2,
   "metadata": {},
   "outputs": [
    {
     "name": "stdout",
     "output_type": "stream",
     "text": [
      "Daily Data Head:\n"
     ]
    },
    {
     "data": {
      "text/html": [
       "<div>\n",
       "<style scoped>\n",
       "    .dataframe tbody tr th:only-of-type {\n",
       "        vertical-align: middle;\n",
       "    }\n",
       "\n",
       "    .dataframe tbody tr th {\n",
       "        vertical-align: top;\n",
       "    }\n",
       "\n",
       "    .dataframe thead th {\n",
       "        text-align: right;\n",
       "    }\n",
       "</style>\n",
       "<table border=\"1\" class=\"dataframe\">\n",
       "  <thead>\n",
       "    <tr style=\"text-align: right;\">\n",
       "      <th></th>\n",
       "      <th>Month-Year</th>\n",
       "      <th>Price</th>\n",
       "      <th>Volume</th>\n",
       "    </tr>\n",
       "  </thead>\n",
       "  <tbody>\n",
       "    <tr>\n",
       "      <th>0</th>\n",
       "      <td>2012-11-13</td>\n",
       "      <td>8.53</td>\n",
       "      <td>1150000</td>\n",
       "    </tr>\n",
       "    <tr>\n",
       "      <th>1</th>\n",
       "      <td>2012-11-15</td>\n",
       "      <td>7.30</td>\n",
       "      <td>4031000</td>\n",
       "    </tr>\n",
       "    <tr>\n",
       "      <th>2</th>\n",
       "      <td>2012-11-16</td>\n",
       "      <td>6.75</td>\n",
       "      <td>3000000</td>\n",
       "    </tr>\n",
       "    <tr>\n",
       "      <th>3</th>\n",
       "      <td>2012-11-20</td>\n",
       "      <td>6.47</td>\n",
       "      <td>4478500</td>\n",
       "    </tr>\n",
       "    <tr>\n",
       "      <th>4</th>\n",
       "      <td>2012-11-20</td>\n",
       "      <td>6.56</td>\n",
       "      <td>868000</td>\n",
       "    </tr>\n",
       "  </tbody>\n",
       "</table>\n",
       "</div>"
      ],
      "text/plain": [
       "  Month-Year  Price   Volume\n",
       "0 2012-11-13   8.53  1150000\n",
       "1 2012-11-15   7.30  4031000\n",
       "2 2012-11-16   6.75  3000000\n",
       "3 2012-11-20   6.47  4478500\n",
       "4 2012-11-20   6.56   868000"
      ]
     },
     "execution_count": 2,
     "metadata": {},
     "output_type": "execute_result"
    }
   ],
   "source": [
    "# Load daily data\n",
    "daily_data = pd.read_excel(daily_data_path)\n",
    "print(\"Daily Data Head:\")\n",
    "daily_data.head()  # Display the first few rows of the daily data"
   ]
  },
  {
   "cell_type": "code",
   "execution_count": 3,
   "metadata": {},
   "outputs": [
    {
     "name": "stdout",
     "output_type": "stream",
     "text": [
      "Monthly Data Head:\n"
     ]
    },
    {
     "data": {
      "text/html": [
       "<div>\n",
       "<style scoped>\n",
       "    .dataframe tbody tr th:only-of-type {\n",
       "        vertical-align: middle;\n",
       "    }\n",
       "\n",
       "    .dataframe tbody tr th {\n",
       "        vertical-align: top;\n",
       "    }\n",
       "\n",
       "    .dataframe thead th {\n",
       "        text-align: right;\n",
       "    }\n",
       "</style>\n",
       "<table border=\"1\" class=\"dataframe\">\n",
       "  <thead>\n",
       "    <tr style=\"text-align: right;\">\n",
       "      <th></th>\n",
       "      <th>Month-Year</th>\n",
       "      <th>Price</th>\n",
       "      <th>Volume</th>\n",
       "    </tr>\n",
       "  </thead>\n",
       "  <tbody>\n",
       "    <tr>\n",
       "      <th>0</th>\n",
       "      <td>2012-01-01</td>\n",
       "      <td>6.973333</td>\n",
       "      <td>2350000</td>\n",
       "    </tr>\n",
       "    <tr>\n",
       "      <th>1</th>\n",
       "      <td>2012-02-01</td>\n",
       "      <td>8.516000</td>\n",
       "      <td>2200000</td>\n",
       "    </tr>\n",
       "    <tr>\n",
       "      <th>2</th>\n",
       "      <td>2012-03-01</td>\n",
       "      <td>7.498333</td>\n",
       "      <td>3050000</td>\n",
       "    </tr>\n",
       "    <tr>\n",
       "      <th>3</th>\n",
       "      <td>2012-04-01</td>\n",
       "      <td>6.718000</td>\n",
       "      <td>2200000</td>\n",
       "    </tr>\n",
       "    <tr>\n",
       "      <th>4</th>\n",
       "      <td>2012-05-01</td>\n",
       "      <td>6.547500</td>\n",
       "      <td>1200000</td>\n",
       "    </tr>\n",
       "  </tbody>\n",
       "</table>\n",
       "</div>"
      ],
      "text/plain": [
       "  Month-Year     Price   Volume\n",
       "0 2012-01-01  6.973333  2350000\n",
       "1 2012-02-01  8.516000  2200000\n",
       "2 2012-03-01  7.498333  3050000\n",
       "3 2012-04-01  6.718000  2200000\n",
       "4 2012-05-01  6.547500  1200000"
      ]
     },
     "execution_count": 3,
     "metadata": {},
     "output_type": "execute_result"
    }
   ],
   "source": [
    "# Load monthly data\n",
    "monthly_data = pd.read_excel(monthly_data_path)\n",
    "print(\"Monthly Data Head:\")\n",
    "monthly_data.head()  # Display the first few rows of the monthly data"
   ]
  },
  {
   "cell_type": "code",
   "execution_count": 4,
   "metadata": {},
   "outputs": [
    {
     "name": "stdout",
     "output_type": "stream",
     "text": [
      "Daily:\n",
      "Minimum: 2.65\n",
      "Maximum: 97.51\n",
      "Mean: 31.76612916328188\n",
      "Standard Deviation: 29.94002128196398\n",
      "Skewness: 0.7545053596313961\n",
      "Kurtosis: -1.004488603896276\n",
      "\n",
      "Monthly:\n",
      "Minimum: 3.418125\n",
      "Maximum: 91.98055555555555\n",
      "Mean: 22.309429847987005\n",
      "Standard Deviation: 24.973447955725494\n",
      "Skewness: 1.55322845516622\n",
      "Kurtosis: 1.1296939802708632\n"
     ]
    }
   ],
   "source": [
    "def describe_price(df, col='Price'):\n",
    "    stats = {\n",
    "        'Minimum': df[col].min(),\n",
    "        'Maximum': df[col].max(),\n",
    "        'Mean': df[col].mean(),\n",
    "        'Standard Deviation': df[col].std(),\n",
    "        'Skewness': skew(df[col], nan_policy='omit'),\n",
    "        'Kurtosis': kurtosis(df[col], nan_policy='omit')\n",
    "    }\n",
    "    return stats\n",
    "\n",
    "daily_stats = describe_price(daily_data)\n",
    "monthly_stats = describe_price(monthly_data)\n",
    "\n",
    "print(\"Daily:\")\n",
    "for key, value in daily_stats.items():\n",
    "    print(f\"{key}: {value}\")\n",
    "print()\n",
    "print(\"Monthly:\")\n",
    "for key, value in monthly_stats.items():\n",
    "    print(f\"{key}: {value}\")"
   ]
  },
  {
   "cell_type": "markdown",
   "metadata": {},
   "source": [
    "## ADF tests"
   ]
  },
  {
   "cell_type": "code",
   "execution_count": 5,
   "metadata": {},
   "outputs": [],
   "source": [
    "def comprehensive_adf_test(ts, max_lags=None, regression_type='ct'):\n",
    "    \"\"\"\n",
    "    Conduct comprehensive ADF test with multiple specifications\n",
    "    \n",
    "    Parameters:\n",
    "    ts (pd.Series): Time series data\n",
    "    max_lags (int): Maximum number of lags to test (default: int(12*(len(ts)/100)^(1/4)))\n",
    "    regression_type (str): 'c' (constant), 't' (trend), 'ct' (constant+trend), 'n' (none)\n",
    "    \n",
    "    Returns:\n",
    "    dict: Test results\n",
    "    \"\"\"\n",
    "    if max_lags is None:\n",
    "        max_lags = int(12 * (len(ts) / 100) ** 0.25)\n",
    "    \n",
    "    # Test different regression specifications\n",
    "    print(f\"\\n=== ADF Test with {regression_type} specification ===\")\n",
    "    \n",
    "    # Automatic lag selection using AIC\n",
    "    adf_result = adfuller(ts, maxlag=max_lags, regression=regression_type, autolag='AIC')\n",
    "    \n",
    "    results = {\n",
    "        'adf_statistic': adf_result[0],\n",
    "        'p_value': adf_result[1],\n",
    "        'lags_used': adf_result[2],\n",
    "        'observations': adf_result[3],\n",
    "        'critical_values': adf_result[4],\n",
    "        'ic_best': adf_result[5]\n",
    "    }\n",
    "    \n",
    "    # print(f\"ADF Statistic: {adf_result[0]:.6f}\")\n",
    "    # print(f\"p-value: {adf_result[1]:.6f}\")\n",
    "    # print(f\"Lags used: {adf_result[2]}\")\n",
    "    # print(f\"Number of observations: {adf_result[3]}\")\n",
    "    # print(f\"Critical Values:\")\n",
    "    # for key, value in adf_result[4].items():\n",
    "    #     print(f\"\\t{key}: {value:.6f}\")\n",
    "    \n",
    "    # # Interpretation\n",
    "    # if adf_result[1] <= 0.05:\n",
    "    #     print(\"Result: Reject null hypothesis - Series is stationary\")\n",
    "    # else:\n",
    "    #     print(\"Result: Fail to reject null hypothesis - Series has unit root\")\n",
    "    \n",
    "    return results"
   ]
  },
  {
   "cell_type": "code",
   "execution_count": null,
   "metadata": {},
   "outputs": [],
   "source": [
    "def calculate_average_adf_across_windows(series, window_size=512):\n",
    "    \"\"\"\n",
    "    Calculate average BDS statistic across all possible windows of given size\n",
    "    \n",
    "    Parameters:\n",
    "    series (pd.Series): Time series data\n",
    "    window_size (int): Size of sliding window\n",
    "    dim (int): Dimension for BDS test\n",
    "    \n",
    "    Returns:\n",
    "    float: Average BDS statistic across all windows\n",
    "    \"\"\"\n",
    "    total_windows = len(series) - window_size + 1\n",
    "    adf_stats = []\n",
    "    pval_nonsig_count = 0\n",
    "    \n",
    "    for i in range(total_windows):\n",
    "        window = series[i:i+window_size]\n",
    "        adf_results = comprehensive_adf_test(window)\n",
    "        adf_stats.append(adf_results['adf_statistic'])\n",
    "        if adf_results['p_value'] < 0.05:\n",
    "            pval_sig_count += 1\n",
    "    \n",
    "    return np.mean(adf_stats), pval_nonsig_count, total_windows"
   ]
  },
  {
   "cell_type": "markdown",
   "metadata": {},
   "source": [
    "Daily data"
   ]
  },
  {
   "cell_type": "code",
   "execution_count": null,
   "metadata": {},
   "outputs": [],
   "source": [
    "# Calculate average BDS statistics for different dimensions, daily\n",
    "print(\"Average BDS Statistics across all windows of size 512 (daily):\")\n",
    "for dim in range(2, 6):\n",
    "    avg_adf, pval_sig, n_windows = calculate_average_adf_across_windows(daily_data['Price'], window_size=512)\n",
    "    print(f\"Dimension {dim}: Avg. BDS Statistic = {avg_adf:.5f}, Number of nonsig. windows = {pval_sig}/{n_windows}\")"
   ]
  },
  {
   "cell_type": "code",
   "execution_count": 6,
   "metadata": {},
   "outputs": [
    {
     "name": "stdout",
     "output_type": "stream",
     "text": [
      "\n",
      "==================================================\n",
      "TESTING LEVELS (PRICES)\n",
      "==================================================\n",
      "\n",
      "=== ADF Test with ct specification ===\n",
      "ADF Statistic: -2.006029\n",
      "p-value: 0.598146\n",
      "Lags used: 24\n",
      "Number of observations: 2437\n",
      "Critical Values:\n",
      "\t1%: -3.962490\n",
      "\t5%: -3.412293\n",
      "\t10%: -3.128112\n",
      "Result: Fail to reject null hypothesis - Series has unit root\n"
     ]
    }
   ],
   "source": [
    "# Test levels\n",
    "print(\"\\n\" + \"=\"*50)\n",
    "print(\"TESTING LEVELS (PRICES)\")\n",
    "print(\"=\"*50)\n",
    "adf_results_levels = comprehensive_adf_test(daily_data['Price'])"
   ]
  },
  {
   "cell_type": "code",
   "execution_count": 7,
   "metadata": {},
   "outputs": [
    {
     "name": "stdout",
     "output_type": "stream",
     "text": [
      "\n",
      "==================================================\n",
      "TESTING LOG LEVELS\n",
      "==================================================\n",
      "\n",
      "=== ADF Test with ct specification ===\n",
      "ADF Statistic: -2.276293\n",
      "p-value: 0.447105\n",
      "Lags used: 15\n",
      "Number of observations: 2446\n",
      "Critical Values:\n",
      "\t1%: -3.962476\n",
      "\t5%: -3.412286\n",
      "\t10%: -3.128108\n",
      "Result: Fail to reject null hypothesis - Series has unit root\n"
     ]
    }
   ],
   "source": [
    "# Test log levels\n",
    "print(\"\\n\" + \"=\"*50)\n",
    "print(\"TESTING LOG LEVELS\")\n",
    "print(\"=\"*50)\n",
    "adf_results_log = comprehensive_adf_test(np.log(daily_data['Price']))"
   ]
  },
  {
   "cell_type": "markdown",
   "metadata": {},
   "source": [
    "Monthly data"
   ]
  },
  {
   "cell_type": "code",
   "execution_count": 8,
   "metadata": {},
   "outputs": [
    {
     "name": "stdout",
     "output_type": "stream",
     "text": [
      "\n",
      "==================================================\n",
      "TESTING LEVELS (PRICES)\n",
      "==================================================\n",
      "\n",
      "=== ADF Test with ct specification ===\n",
      "ADF Statistic: -1.643409\n",
      "p-value: 0.774976\n",
      "Lags used: 12\n",
      "Number of observations: 121\n",
      "Critical Values:\n",
      "\t1%: -4.035606\n",
      "\t5%: -3.447417\n",
      "\t10%: -3.148699\n",
      "Result: Fail to reject null hypothesis - Series has unit root\n"
     ]
    }
   ],
   "source": [
    "# Test levels\n",
    "print(\"\\n\" + \"=\"*50)\n",
    "print(\"TESTING LEVELS (PRICES)\")\n",
    "print(\"=\"*50)\n",
    "adf_results_levels = comprehensive_adf_test(monthly_data['Price'])"
   ]
  },
  {
   "cell_type": "code",
   "execution_count": 9,
   "metadata": {},
   "outputs": [
    {
     "name": "stdout",
     "output_type": "stream",
     "text": [
      "\n",
      "==================================================\n",
      "TESTING LOG LEVELS\n",
      "==================================================\n",
      "\n",
      "=== ADF Test with ct specification ===\n",
      "ADF Statistic: -2.435511\n",
      "p-value: 0.360917\n",
      "Lags used: 1\n",
      "Number of observations: 132\n",
      "Critical Values:\n",
      "\t1%: -4.029044\n",
      "\t5%: -3.444289\n",
      "\t10%: -3.146873\n",
      "Result: Fail to reject null hypothesis - Series has unit root\n"
     ]
    }
   ],
   "source": [
    "# Test log levels\n",
    "print(\"\\n\" + \"=\"*50)\n",
    "print(\"TESTING LOG LEVELS\")\n",
    "print(\"=\"*50)\n",
    "adf_results_log = comprehensive_adf_test(np.log(monthly_data['Price']))"
   ]
  },
  {
   "cell_type": "markdown",
   "metadata": {},
   "source": [
    "## BDS tests"
   ]
  },
  {
   "cell_type": "code",
   "execution_count": 10,
   "metadata": {},
   "outputs": [],
   "source": [
    "def bds_test_results(series, dim=2):\n",
    "    bds_results = bds(series, max_dim=dim)\n",
    "    return {\n",
    "        'BDS statistic': bds_results[0].max() if dim == 2 else bds_results[0][dim-2],\n",
    "        'p-value': bds_results[1].max() if dim == 2 else bds_results[1][dim-2],\n",
    "    }"
   ]
  },
  {
   "cell_type": "code",
   "execution_count": 23,
   "metadata": {},
   "outputs": [],
   "source": [
    "def calculate_average_bds_across_windows(series, window_size=512, dim=2):\n",
    "    \"\"\"\n",
    "    Calculate average BDS statistic across all possible windows of given size\n",
    "    \n",
    "    Parameters:\n",
    "    series (pd.Series): Time series data\n",
    "    window_size (int): Size of sliding window\n",
    "    dim (int): Dimension for BDS test\n",
    "    \n",
    "    Returns:\n",
    "    float: Average BDS statistic across all windows\n",
    "    \"\"\"\n",
    "    total_windows = len(series) - window_size + 1\n",
    "    bds_stats = []\n",
    "    pval_nonsig_count = 0\n",
    "    \n",
    "    for i in range(total_windows):\n",
    "        window = series[i:i+window_size]\n",
    "        bds_result = bds_test_results(window, dim=dim)\n",
    "        bds_stats.append(bds_result['BDS statistic'])\n",
    "        if bds_result['p-value'] >= 0.05:\n",
    "            pval_nonsig_count += 1\n",
    "    \n",
    "    return np.mean(bds_stats), pval_nonsig_count, total_windows"
   ]
  },
  {
   "cell_type": "code",
   "execution_count": 30,
   "metadata": {},
   "outputs": [
    {
     "name": "stdout",
     "output_type": "stream",
     "text": [
      "BDS Test (Daily):\n",
      "Dimension 2: {'BDS statistic': 97.23523543456281, 'p-value': 0.0}\n",
      "Dimension 3: {'BDS statistic': 106.45474744132922, 'p-value': 0.0}\n",
      "Dimension 4: {'BDS statistic': 117.66881994743484, 'p-value': 0.0}\n",
      "Dimension 5: {'BDS statistic': 133.39370028121263, 'p-value': 0.0}\n"
     ]
    }
   ],
   "source": [
    "print(\"BDS Test (Daily):\")\n",
    "for dim in range(2, 6):\n",
    "    bds_daily = bds_test_results(daily_data['Price'][0:512], dim=dim)\n",
    "    print(f\"Dimension {dim}:\", bds_daily)"
   ]
  },
  {
   "cell_type": "code",
   "execution_count": 31,
   "metadata": {},
   "outputs": [
    {
     "name": "stdout",
     "output_type": "stream",
     "text": [
      "Average BDS Statistics across all windows of size 512 (daily):\n",
      "Dimension 2: Avg. BDS Statistic = 86.59026, Number of nonsig. windows = 0/1951\n",
      "Dimension 3: Avg. BDS Statistic = 94.80863, Number of nonsig. windows = 0/1951\n",
      "Dimension 4: Avg. BDS Statistic = 104.91681, Number of nonsig. windows = 0/1951\n",
      "Dimension 5: Avg. BDS Statistic = 119.21401, Number of nonsig. windows = 0/1951\n"
     ]
    }
   ],
   "source": [
    "# Calculate average BDS statistics for different dimensions, daily\n",
    "print(\"Average BDS Statistics across all windows of size 512 (daily):\")\n",
    "for dim in range(2, 6):\n",
    "    avg_bds, pval_nonsig, n_windows = calculate_average_bds_across_windows(daily_data['Price'], window_size=512, dim=dim)\n",
    "    print(f\"Dimension {dim}: Avg. BDS Statistic = {avg_bds:.5f}, Number of nonsig. windows = {pval_nonsig}/{n_windows}\")"
   ]
  },
  {
   "cell_type": "code",
   "execution_count": 25,
   "metadata": {},
   "outputs": [
    {
     "name": "stdout",
     "output_type": "stream",
     "text": [
      "BDS Test (Monthly):\n",
      "Dimension 2: {'BDS statistic': 20.44239745538141, 'p-value': 7.020437708002223e-93}\n",
      "Dimension 3: {'BDS statistic': 21.289759630630535, 'p-value': 1.4125053373737697e-100}\n",
      "Dimension 4: {'BDS statistic': 22.28570532872236, 'p-value': 5.0849692257005624e-110}\n",
      "Dimension 5: {'BDS statistic': 23.825065393472514, 'p-value': 1.8367221976840146e-125}\n"
     ]
    }
   ],
   "source": [
    "print(\"BDS Test (Monthly):\")\n",
    "for dim in range(2, 6):\n",
    "    bds_monthly = bds_test_results(monthly_data['Price'], dim=dim)\n",
    "    print(f\"Dimension {dim}:\", bds_monthly)"
   ]
  },
  {
   "cell_type": "code",
   "execution_count": null,
   "metadata": {},
   "outputs": [],
   "source": []
  }
 ],
 "metadata": {
  "kernelspec": {
   "display_name": "venv",
   "language": "python",
   "name": "python3"
  },
  "language_info": {
   "codemirror_mode": {
    "name": "ipython",
    "version": 3
   },
   "file_extension": ".py",
   "mimetype": "text/x-python",
   "name": "python",
   "nbconvert_exporter": "python",
   "pygments_lexer": "ipython3",
   "version": "3.11.9"
  }
 },
 "nbformat": 4,
 "nbformat_minor": 2
}
