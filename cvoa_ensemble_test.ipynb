{
 "cells": [
  {
   "metadata": {},
   "cell_type": "markdown",
   "source": [
    "This paper https://doi.org/10.1016/j.neucom.2025.130027 manages to use the Coronavirus Optimization Algorithm (CVOA) to optimise the weights in a weighted average of all model's predictions for energy consumption forecasting. We will try to emulate that in this notebook.\n",
    "\n",
    "We will perform a single CVOA for each horizon setting, since there appears to be a trend where some models perform better at short horizons, and other models at long horizons.\n",
    "\n",
    "A point of criticism for ensemble methods is that since it uses the ground truths of the "
   ],
   "id": "f38c1b81bbecf59c"
  },
  {
   "cell_type": "code",
   "execution_count": null,
   "id": "initial_id",
   "metadata": {
    "collapsed": true
   },
   "outputs": [],
   "source": [
    ""
   ]
  }
 ],
 "metadata": {
  "kernelspec": {
   "display_name": "Python 3",
   "language": "python",
   "name": "python3"
  },
  "language_info": {
   "codemirror_mode": {
    "name": "ipython",
    "version": 2
   },
   "file_extension": ".py",
   "mimetype": "text/x-python",
   "name": "python",
   "nbconvert_exporter": "python",
   "pygments_lexer": "ipython2",
   "version": "2.7.6"
  }
 },
 "nbformat": 4,
 "nbformat_minor": 5
}
