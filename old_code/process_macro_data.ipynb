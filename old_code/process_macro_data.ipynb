{
 "cells": [
  {
   "metadata": {
    "ExecuteTime": {
     "end_time": "2024-07-24T05:02:19.570931Z",
     "start_time": "2024-07-24T05:02:19.560140Z"
    }
   },
   "cell_type": "code",
   "source": [
    "import os\n",
    "import pandas as pd\n",
    "import numpy as np\n",
    "import seaborn as sns\n",
    "import matplotlib.pyplot as plt\n",
    "import datetime\n",
    "\n",
    "downloads = \"C:/Users/stucws/Downloads/\"\n",
    "add = 'macro_indicators/'"
   ],
   "id": "5f8db184dcf6fe4b",
   "outputs": [],
   "execution_count": 129
  },
  {
   "cell_type": "code",
   "execution_count": null,
   "id": "initial_id",
   "metadata": {
    "collapsed": true
   },
   "outputs": [],
   "source": [
    "# disc = pd.read_csv(downloads + 'TWEXB.csv')\n",
    "\n",
    "broad = pd.read_csv(downloads + add + 'US_Dollar_Index_Broad.csv')\n",
    "broad['DTWEXBGS'] = pd.to_numeric(broad['DTWEXBGS'], errors='coerce')\n",
    "broad['DTWEXBGS'] = broad['DTWEXBGS'].fillna(broad['DTWEXBGS'].rolling(window=3, center=True, min_periods=1).mean())\n",
    "broad['DTWEXBGS'] = broad['DTWEXBGS'].fillna(broad['DTWEXBGS'].rolling(window=4, center=True, min_periods=1).mean())\n",
    "\n",
    "adv = pd.read_csv(downloads + add + 'US_Dollar_Index_ADV.csv')\n",
    "adv['DTWEXAFEGS'] = pd.to_numeric(adv['DTWEXAFEGS'], errors='coerce')\n",
    "adv['DTWEXAFEGS'] = adv['DTWEXAFEGS'].fillna(adv['DTWEXAFEGS'].rolling(window=3, center=True, min_periods=1).mean())\n",
    "adv['DTWEXAFEGS'] = adv['DTWEXAFEGS'].fillna(adv['DTWEXAFEGS'].rolling(window=4, center=True, min_periods=1).mean())\n",
    "\n",
    "emg = pd.read_csv(downloads + add + 'US_Dollar_Index_EMG.csv')\n",
    "emg['DTWEXEMEGS'] = pd.to_numeric(emg['DTWEXEMEGS'], errors='coerce')\n",
    "emg['DTWEXEMEGS'] = emg['DTWEXEMEGS'].fillna(emg['DTWEXEMEGS'].rolling(window=3, center=True, min_periods=1).mean())\n",
    "emg['DTWEXEMEGS'] = emg['DTWEXEMEGS'].fillna(emg['DTWEXEMEGS'].rolling(window=4, center=True, min_periods=1).mean())\n",
    "\n",
    "merged_df = pd.merge(broad, adv, on='DATE', how='outer')\n",
    "merged_df = pd.merge(merged_df, emg, on='DATE', how='outer')\n",
    "merged_df.rename(columns={\n",
    "    'DATE': 'Period',\n",
    "    'DTWEXBGS': 'Nominal Broad Daily',\n",
    "    'DTWEXAFEGS': 'Nominal AFE Daily',\n",
    "    'DTWEXEMEGS': 'Nominal EME Daily'\n",
    "}, inplace=True)"
   ]
  },
  {
   "metadata": {},
   "cell_type": "code",
   "outputs": [],
   "execution_count": null,
   "source": [
    "hist = pd.read_csv(downloads + add + 'US_Dollar_Indexes_Nominal_Daily.csv')\n",
    "hist['Period'] = pd.to_datetime(hist['Period'], format='%d-%b-%y')\n",
    "hist['Period'] = hist['Period'].dt.strftime('%Y-%m-%d')\n",
    "\n",
    "# merged_df = pd.merge(merged_df, hist, on='Period', how='inner')\n",
    "# print(merged_df)\n",
    "#\n",
    "# merged_df['Nominal Broad Daily diff'] = merged_df['Nominal Broad Daily_x'] - merged_df['Nominal Broad Daily_y']\n",
    "# merged_df['Nominal AFE Daily diff'] = merged_df['Nominal AFE Daily_x'] - merged_df['Nominal AFE Daily_y']\n",
    "# merged_df['Nominal EME Daily diff'] = merged_df['Nominal EME Daily_x'] - merged_df['Nominal EME Daily_y']\n",
    "#\n",
    "# print(merged_df['Nominal Broad Daily diff'].min())\n",
    "# print(merged_df['Nominal Broad Daily diff'].max())\n",
    "# print(merged_df['Nominal Broad Daily diff'].mean())\n",
    "# print()\n",
    "#\n",
    "# print(merged_df['Nominal AFE Daily diff'].min())\n",
    "# print(merged_df['Nominal AFE Daily diff'].max())\n",
    "# print(merged_df['Nominal AFE Daily diff'].mean())\n",
    "# print()\n",
    "#\n",
    "# print(merged_df['Nominal EME Daily diff'].min())\n",
    "# print(merged_df['Nominal EME Daily diff'].max())\n",
    "# print(merged_df['Nominal EME Daily diff'].mean())\n",
    "\n",
    "hist = hist[hist['Period'] <= '2006-01-01']\n",
    "merged_df = merged_df[merged_df['Period'] > '2006-01-01']\n",
    "result = pd.concat([hist, merged_df]).reset_index()\n",
    "\n",
    "print(result)\n",
    "result.to_csv(downloads + add + 'US_Dollar_Indexes_Nominal_Daily_Full.csv', index=False)"
   ],
   "id": "a8c6800b31d36128"
  },
  {
   "metadata": {
    "ExecuteTime": {
     "end_time": "2024-07-23T04:41:43.196962Z",
     "start_time": "2024-07-23T04:41:43.189123Z"
    }
   },
   "cell_type": "code",
   "source": [
    "files = os.listdir(downloads + add)\n",
    "files.remove('unnecessary')"
   ],
   "id": "1431d25fe6c1a458",
   "outputs": [],
   "execution_count": 109
  },
  {
   "metadata": {
    "ExecuteTime": {
     "end_time": "2024-07-23T04:59:29.848236Z",
     "start_time": "2024-07-23T04:59:29.591219Z"
    }
   },
   "cell_type": "code",
   "source": [
    "all_dfs = []\n",
    "\n",
    "for file in files:\n",
    "    if file == 'US_Dollar_Indexes_Nominal_Daily_Full.csv':\n",
    "        df = pd.read_csv(downloads + add + file, parse_dates=['Period'], index_col='Period')\n",
    "    else:\n",
    "        df = pd.read_csv(downloads + add + file, parse_dates=['DATE'], index_col='DATE')\n",
    "    all_dfs.append(df)\n",
    "\n",
    "combined_df = pd.concat(all_dfs, axis=1)\n",
    "\n",
    "# Remove leading and trailing NAs\n",
    "combined_df = combined_df.loc[lambda df_: (df_.ffill().notna() & df_.bfill().notna()).all(axis=1)]\n",
    "\n",
    "# Remove weekends\n",
    "combined_df = combined_df[combined_df.index.weekday < 5]\n",
    "\n",
    "# Change object columns to float\n",
    "combined_df['DCOILBRENTEU'] = pd.to_numeric(combined_df['DCOILBRENTEU'], errors='coerce')\n",
    "combined_df['DCOILBRENTEU'] = combined_df['DCOILBRENTEU'].fillna(combined_df['DCOILBRENTEU'].rolling(window=3, center=True, min_periods=1).mean())\n",
    "combined_df['DCOILBRENTEU'] = combined_df['DCOILBRENTEU'].fillna(combined_df['DCOILBRENTEU'].rolling(window=3, center=True, min_periods=1).mean())\n",
    "# combined_df['DCOILBRENTEU'][combined_df['DCOILBRENTEU'].isna()]\n",
    "\n",
    "combined_df['DCOILWTICO'] = pd.to_numeric(combined_df['DCOILWTICO'], errors='coerce')\n",
    "combined_df['DCOILWTICO'] = combined_df['DCOILWTICO'].fillna(combined_df['DCOILWTICO'].rolling(window=3, center=True, min_periods=1).mean())\n",
    "# combined_df['DCOILWTICO'][combined_df['DCOILWTICO'].isna()]\n",
    "\n",
    "# forward fill the monthly values\n",
    "combined_df = combined_df.ffill()\n",
    "combined_df.dropna(inplace=True)\n",
    "\n",
    "# Rename columns for visibility\n",
    "combined_df.rename(columns={\n",
    "    'CPIAUCSL': 'Consumer Price Index',\n",
    "    'DCOILBRENTEU': 'Crude Oil (BrentEU)',\n",
    "    'DCOILWTICO': 'Crude Oil (WTI)',\n",
    "    'A191RL1Q225SBEA': 'GDP Real',\n",
    "    'A939RX0Q048SBEA': 'GDP Real per capita',\n",
    "    'GNPC96': 'GNP Real',\n",
    "    'MSPUS': 'House Sales Price Median',\n",
    "    'INDPRO': 'Industrial Production',\n",
    "    'FPCPITOTLZGUSA': 'Inflation Rate',\n",
    "    'DFF': 'Interest Rate (US)',\n",
    "    'M1SL': 'M1',\n",
    "    'M1V': 'M1 Velocity',\n",
    "    'M2SL': 'M2',\n",
    "    'M2V': 'M2 Velocity',\n",
    "    'PCE': 'Personal Consumption Expenditures',\n",
    "    'POPTHM': 'Population (US)',\n",
    "    'SPPOPTOTLWLD': 'Population (World)',\n",
    "    'TENEXPCHAREARISPRE': 'Risk Premium Real',\n",
    "    'BOGZ1FA895050005Q': 'Total Capital Expenditures',\n",
    "    'UNRATE': 'Unemployment Rate'\n",
    "}, inplace=True)"
   ],
   "id": "1e3e18b7a3315d11",
   "outputs": [],
   "execution_count": 125
  },
  {
   "metadata": {
    "ExecuteTime": {
     "end_time": "2024-07-23T05:00:40.096013Z",
     "start_time": "2024-07-23T05:00:39.902662Z"
    }
   },
   "cell_type": "code",
   "source": "combined_df.to_csv(downloads + add + 'combined_macro_indicators.csv', index_label='Date')",
   "id": "3cceb95accda882b",
   "outputs": [],
   "execution_count": 128
  },
  {
   "metadata": {},
   "cell_type": "code",
   "outputs": [
    {
     "data": {
      "text/plain": [
       "('FPCPITOTLZGUSA', Timestamp('2023-01-01 00:00:00'))"
      ]
     },
     "execution_count": 33,
     "metadata": {},
     "output_type": "execute_result"
    }
   ],
   "execution_count": 33,
   "source": [
    "def find_column_with_smallest_nonnull_range(df_):\n",
    "    max_date = datetime.datetime.max\n",
    "    min_col = None\n",
    "    \n",
    "    for col in df_.columns:\n",
    "        non_null_indices = df_[col].dropna().index\n",
    "        if non_null_indices.empty:\n",
    "            continue\n",
    "            \n",
    "        last = non_null_indices[-1]\n",
    "        \n",
    "        if last < max_date:\n",
    "            max_date = last\n",
    "            min_col = col\n",
    "    \n",
    "    return min_col, max_date\n",
    "\n",
    "find_column_with_smallest_nonnull_range(combined_df)"
   ],
   "id": "6fee67bb5bf27ef7"
  }
 ],
 "metadata": {
  "kernelspec": {
   "display_name": "Python 3",
   "language": "python",
   "name": "python3"
  },
  "language_info": {
   "codemirror_mode": {
    "name": "ipython",
    "version": 2
   },
   "file_extension": ".py",
   "mimetype": "text/x-python",
   "name": "python",
   "nbconvert_exporter": "python",
   "pygments_lexer": "ipython2",
   "version": "2.7.6"
  }
 },
 "nbformat": 4,
 "nbformat_minor": 5
}
